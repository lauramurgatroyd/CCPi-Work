{
 "cells": [
  {
   "cell_type": "code",
   "execution_count": 46,
   "metadata": {},
   "outputs": [],
   "source": [
    "import numpy as np\n",
    "import os\n",
    "\n",
    "from cil.io import  NEXUSDataWriter, NEXUSDataReader\n",
    "from cil.utilities.display import show2D, show_geometry\n",
    "from cil.utilities.jupyter import islicer"
   ]
  },
  {
   "cell_type": "code",
   "execution_count": 47,
   "metadata": {},
   "outputs": [
    {
     "name": "stdout",
     "output_type": "stream",
     "text": [
      "Number of dimensions: 4\n",
      "Shape: (100, 80, 80, 80)\n",
      "Axis labels: ('channel', 'vertical', 'horizontal_y', 'horizontal_x')\n",
      "\n"
     ]
    }
   ],
   "source": [
    "folder = r\"D:\\lhe97136\\Work\\Data\\CIL\\Lizard\"\n",
    "data4D = NEXUSDataReader(file_name=os.path.join(folder, \"1000_iters_alpha_0.002_beta_0.25.nxs\")).read()\n",
    "\n",
    "print(data4D)\n"
   ]
  },
  {
   "cell_type": "code",
   "execution_count": 48,
   "metadata": {},
   "outputs": [
    {
     "data": {
      "application/vnd.jupyter.widget-view+json": {
       "model_id": "ae82e39541464b90b063efc54344d9fd",
       "version_major": 2,
       "version_minor": 0
      },
      "text/plain": [
       "interactive(children=(IntSlider(value=40, continuous_update=False, description='horizontal_x', max=79), FloatR…"
      ]
     },
     "metadata": {},
     "output_type": "display_data"
    },
    {
     "data": {
      "application/vnd.jupyter.widget-view+json": {
       "model_id": "81ead1603afb440198e577d15e0d8f78",
       "version_major": 2,
       "version_minor": 0
      },
      "text/plain": [
       "interactive(children=(IntSlider(value=40, continuous_update=False, description='horizontal_x', max=79), FloatR…"
      ]
     },
     "metadata": {},
     "output_type": "display_data"
    },
    {
     "name": "stdout",
     "output_type": "stream",
     "text": [
      "Number of dimensions: 3\n",
      "Shape: (80, 80, 80)\n",
      "Axis labels: ('vertical', 'horizontal_y', 'horizontal_x')\n",
      "\n"
     ]
    }
   ],
   "source": [
    "def sum_all_channels(data4D):\n",
    "    num_channels = np.shape(data4D)[0]\n",
    "    full_channel_range = (0, num_channels)\n",
    "    return sum_channels(data4D, full_channel_range)\n",
    "\n",
    "def sum_channels(data4D, range_tuple):\n",
    "    data3D = None\n",
    "    for channel in range(*range_tuple):\n",
    "        if data3D is None:\n",
    "            data3D = data4D.get_slice(channel=channel)\n",
    "        else:\n",
    "            data3D = data3D + data4D.get_slice(channel=channel)\n",
    "    return data3D\n",
    "\n",
    "\n",
    "sum_TV = sum_all_channels(data4D)\n",
    "below_kedge_sum = sum_channels(data4D, (0, 20))\n",
    "# kedge is at 57\n",
    "above_kedge_sum = sum_channels(data4D, (80, 100))\n",
    "kedge_diff = above_kedge_sum - below_kedge_sum\n",
    "\n",
    "\n",
    "islicer(sum_TV, direction='horizontal_x')\n",
    "islicer(kedge_diff,direction='horizontal_x')\n",
    "\n",
    "print(sum_TV)\n",
    "\n",
    "NEXUSDataWriter(data=kedge_diff, file_name=os.path.join(folder, 'output', 'kedge_diff.nxs')).write()\n",
    "NEXUSDataWriter(data=sum_TV, file_name=os.path.join(folder, 'output', 'sum_TV.nxs')).write()\n",
    "\n",
    "\n"
   ]
  }
 ],
 "metadata": {
  "interpreter": {
   "hash": "142e51c861693d1352db00408f1152f7031cbee5ef552521db6fbffbc9fbb0a3"
  },
  "kernelspec": {
   "display_name": "Python 3.7.9",
   "language": "python",
   "name": "python3"
  },
  "language_info": {
   "codemirror_mode": {
    "name": "ipython",
    "version": 3
   },
   "file_extension": ".py",
   "mimetype": "text/x-python",
   "name": "python",
   "nbconvert_exporter": "python",
   "pygments_lexer": "ipython3",
   "version": "3.7.12"
  },
  "orig_nbformat": 4
 },
 "nbformat": 4,
 "nbformat_minor": 2
}
